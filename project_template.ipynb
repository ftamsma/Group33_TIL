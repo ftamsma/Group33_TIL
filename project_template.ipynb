{
 "cells": [
  {
   "cell_type": "markdown",
   "metadata": {},
   "source": [
    "# Project Group - 33\n",
    "\n",
    "Members: Amber van der Helm, Femke Tamsma, Merel Loman, Naomi Rottier, and Robin Karthaus\n",
    "\n",
    "Student numbers: 5164303, 5122422, 4852982, 5496462, 5634563"
   ]
  },
  {
   "cell_type": "markdown",
   "metadata": {},
   "source": [
    "# Research Objective\n",
    "\n",
    "*Requires data modeling and quantitative research in Transport, Infrastructure & Logistics*"
   ]
  },
  {
   "cell_type": "markdown",
   "metadata": {},
   "source": [
    "The bin packing is an Operational Research (OR) technique. It is similar to the knapsack problem, however the knapsack problem is a maximization problem where the purpose is to fill a fixed-size knapsack with the most valuable items. Whereas in the bin packing problem all items should be assigned and the purpose is to minimize the number of used bins. \n",
    "\n",
    "Throughout the supply chain various applications can be found where a bin packing problem is encountered. From assigning cargo to airplanes or containers to assigning packages to trucks. \n",
    "\n",
    "The objective for this research is a model that is able to optimize the allocation of packages to vehicles. This is first done with one type of vehicle with the same characteristics. From this model the model will be extended so it can optimize the same problem with different types of vehicles that can be used and eventually the emissions of the vehicles will be considered as well. Even more applications can be added to extend the model to become more realistic. An example is not allocating all packages from one day but to differentiate in parts of the day and that packages from certain time slots are used, instead of all packages available.  \n",
    "\n",
    "The data set from the \"Amazon Last Mile Routing Challenge Dataset\" will be used. This data contains information about the dimension of the packages being delivered. The data will first be imported to Python and converted from a JSON file to a CSV file. Missing values will either be deleted or replaced by the average values, depending on the outcomes of the descriptive analysis. To simplify the model, the three dimensions (length, width, height), will be converted to a new variable (column) \"volume\" in cm3. Since the dimension of the vans is also in cm3, optimizing the bin packing algorithm will be possible. After these first data processing steps, the data will be further cleaned by checking for outliers and deleting these if necessary. Also a general view of the data will be formed by descriptive statistics and corresponding visualizations (box plots, normal distributions, histograms, scatter plots, etc.). \n",
    "\n",
    "When all the data is cleaned and a general view of the data is formed the algorithm will be written. This algorithm will be a bin packing algorithm which optimizes the allocation/loading of the vans. This algorithm will be written in different steps. First many assumptions will be made to keep the algorithm as simple as possible (for example, only one van at a time can be loaded). When the model runs correctly, the algorithm will be made more complex by adding more constraints and making less assumptions. Each \"complexity step\" in the model will be monitored separately and give insight into the capacity of the model of optimizing the loading more optimally. A visualization regarding the decrease in total needed vans per increase in model complexity will be created. \n",
    "\n",
    "The research question used in this assignment is: \"Is it possible to optimize the allocation of packages, given by the Amazon dataset, to vans using a binpacking algorithm, where model complexity steps are taken into account and visualization of these complexity steps are done with advanced visualisation?\""
   ]
  },
  {
   "cell_type": "markdown",
   "metadata": {},
   "source": [
    "# Contribution Statement\n",
    "\n",
    "*Be specific. Some of the tasks can be coding (expect everyone to do this), background research, conceptualisation, visualisation, data analysis, data modelling*"
   ]
  },
  {
   "cell_type": "markdown",
   "metadata": {},
   "source": [
    "**Author 1** (Amber): importing data as a dataframe\n",
    "\n",
    "**Author 2** (Femke): visualization possibilities \n",
    "\n",
    "**Author 3** (Merel): importing data as a dataframe\n",
    "\n",
    "**Author 4** (Naomi): checking other projects and RQs\n",
    "\n",
    "**Author 5** (Robin): visualization possibilities"
   ]
  },
  {
   "cell_type": "markdown",
   "metadata": {},
   "source": [
    "# Data Import"
   ]
  },
  {
   "cell_type": "markdown",
   "metadata": {},
   "source": [
    "We have used two datasets from Amazon to get the dimensions of the packages and delivery vans. The first dataset \"package_data.json\" gives us information about the dimensions of the packages, which will be used to compute the volume for each package. The second dataset \"route_data.json\" will be used to obtain the volume capacity of th delivery vehicle. More documentation can be found here: https://github.com/MIT-CAVE/rc-cli/blob/main/templates/data_structures.md. \n",
    "\n",
    "First, the necessary libraries will be imported and these two datasets will be opened before creating the dataframe."
   ]
  },
  {
   "cell_type": "code",
   "execution_count": 1,
   "metadata": {},
   "outputs": [],
   "source": [
    "import pandas as pd\n",
    "import json\n",
    "import matplotlib.pyplot as plt\n",
    "\n",
    "json_file_path_package = 'package_data.json'\n",
    "\n",
    "with open(json_file_path_package, 'r') as file:\n",
    "    data_package = json.load(file)\n",
    "\n",
    "json_file_path_route = 'route_data.json'\n",
    "\n",
    "with open(json_file_path_route, 'r') as file:\n",
    "    data_route = json.load(file)"
   ]
  },
  {
   "cell_type": "markdown",
   "metadata": {},
   "source": [
    "After loading our datasets, it is stored in a way that we can use it for our research question. First, the json data of the packages will be put in a dataframe."
   ]
  },
  {
   "cell_type": "code",
   "execution_count": 2,
   "metadata": {},
   "outputs": [
    {
     "data": {
      "text/html": [
       "<div>\n",
       "<style scoped>\n",
       "    .dataframe tbody tr th:only-of-type {\n",
       "        vertical-align: middle;\n",
       "    }\n",
       "\n",
       "    .dataframe tbody tr th {\n",
       "        vertical-align: top;\n",
       "    }\n",
       "\n",
       "    .dataframe thead th {\n",
       "        text-align: right;\n",
       "    }\n",
       "</style>\n",
       "<table border=\"1\" class=\"dataframe\">\n",
       "  <thead>\n",
       "    <tr style=\"text-align: right;\">\n",
       "      <th></th>\n",
       "      <th>PackageID</th>\n",
       "      <th>ScanStatus</th>\n",
       "      <th>StartTimeUTC</th>\n",
       "      <th>EndTimeUTC</th>\n",
       "      <th>PlannedServiceTimeSeconds</th>\n",
       "      <th>DepthCM</th>\n",
       "      <th>HeightCM</th>\n",
       "      <th>WidthCM</th>\n",
       "      <th>StopID</th>\n",
       "      <th>RouteID</th>\n",
       "    </tr>\n",
       "  </thead>\n",
       "  <tbody>\n",
       "    <tr>\n",
       "      <th>0</th>\n",
       "      <td>PackageID_9d7fdd03-f2cf-4c6f-9128-028258fc09ea</td>\n",
       "      <td>DELIVERED</td>\n",
       "      <td>NaN</td>\n",
       "      <td>NaN</td>\n",
       "      <td>59.3</td>\n",
       "      <td>25.4</td>\n",
       "      <td>7.6</td>\n",
       "      <td>17.8</td>\n",
       "      <td>AD</td>\n",
       "      <td>RouteID_00143bdd-0a6b-49ec-bb35-36593d303e77</td>\n",
       "    </tr>\n",
       "    <tr>\n",
       "      <th>1</th>\n",
       "      <td>PackageID_5541e679-b7bd-4992-b288-e862f6c84ae7</td>\n",
       "      <td>DELIVERED</td>\n",
       "      <td>2018-07-27 16:00:00</td>\n",
       "      <td>2018-07-28 00:00:00</td>\n",
       "      <td>59.3</td>\n",
       "      <td>25.4</td>\n",
       "      <td>12.7</td>\n",
       "      <td>17.8</td>\n",
       "      <td>AD</td>\n",
       "      <td>RouteID_00143bdd-0a6b-49ec-bb35-36593d303e77</td>\n",
       "    </tr>\n",
       "    <tr>\n",
       "      <th>2</th>\n",
       "      <td>PackageID_84d0295b-1adb-4a33-a65e-f7d6247c7a07</td>\n",
       "      <td>DELIVERED</td>\n",
       "      <td>NaN</td>\n",
       "      <td>NaN</td>\n",
       "      <td>59.3</td>\n",
       "      <td>39.4</td>\n",
       "      <td>7.6</td>\n",
       "      <td>31.8</td>\n",
       "      <td>AD</td>\n",
       "      <td>RouteID_00143bdd-0a6b-49ec-bb35-36593d303e77</td>\n",
       "    </tr>\n",
       "    <tr>\n",
       "      <th>3</th>\n",
       "      <td>PackageID_15c6a204-ec5f-4ced-9c3d-472316cc7759</td>\n",
       "      <td>DELIVERED</td>\n",
       "      <td>2018-07-27 16:00:00</td>\n",
       "      <td>2018-07-28 00:00:00</td>\n",
       "      <td>27.0</td>\n",
       "      <td>30.0</td>\n",
       "      <td>3.0</td>\n",
       "      <td>27.4</td>\n",
       "      <td>AF</td>\n",
       "      <td>RouteID_00143bdd-0a6b-49ec-bb35-36593d303e77</td>\n",
       "    </tr>\n",
       "    <tr>\n",
       "      <th>4</th>\n",
       "      <td>PackageID_3b28f781-242e-416e-9575-84c7188b8208</td>\n",
       "      <td>DELIVERED</td>\n",
       "      <td>NaN</td>\n",
       "      <td>NaN</td>\n",
       "      <td>45.0</td>\n",
       "      <td>25.4</td>\n",
       "      <td>12.7</td>\n",
       "      <td>17.8</td>\n",
       "      <td>AG</td>\n",
       "      <td>RouteID_00143bdd-0a6b-49ec-bb35-36593d303e77</td>\n",
       "    </tr>\n",
       "  </tbody>\n",
       "</table>\n",
       "</div>"
      ],
      "text/plain": [
       "                                        PackageID ScanStatus  \\\n",
       "0  PackageID_9d7fdd03-f2cf-4c6f-9128-028258fc09ea  DELIVERED   \n",
       "1  PackageID_5541e679-b7bd-4992-b288-e862f6c84ae7  DELIVERED   \n",
       "2  PackageID_84d0295b-1adb-4a33-a65e-f7d6247c7a07  DELIVERED   \n",
       "3  PackageID_15c6a204-ec5f-4ced-9c3d-472316cc7759  DELIVERED   \n",
       "4  PackageID_3b28f781-242e-416e-9575-84c7188b8208  DELIVERED   \n",
       "\n",
       "          StartTimeUTC           EndTimeUTC  PlannedServiceTimeSeconds  \\\n",
       "0                  NaN                  NaN                       59.3   \n",
       "1  2018-07-27 16:00:00  2018-07-28 00:00:00                       59.3   \n",
       "2                  NaN                  NaN                       59.3   \n",
       "3  2018-07-27 16:00:00  2018-07-28 00:00:00                       27.0   \n",
       "4                  NaN                  NaN                       45.0   \n",
       "\n",
       "   DepthCM  HeightCM  WidthCM StopID  \\\n",
       "0     25.4       7.6     17.8     AD   \n",
       "1     25.4      12.7     17.8     AD   \n",
       "2     39.4       7.6     31.8     AD   \n",
       "3     30.0       3.0     27.4     AF   \n",
       "4     25.4      12.7     17.8     AG   \n",
       "\n",
       "                                        RouteID  \n",
       "0  RouteID_00143bdd-0a6b-49ec-bb35-36593d303e77  \n",
       "1  RouteID_00143bdd-0a6b-49ec-bb35-36593d303e77  \n",
       "2  RouteID_00143bdd-0a6b-49ec-bb35-36593d303e77  \n",
       "3  RouteID_00143bdd-0a6b-49ec-bb35-36593d303e77  \n",
       "4  RouteID_00143bdd-0a6b-49ec-bb35-36593d303e77  "
      ]
     },
     "execution_count": 2,
     "metadata": {},
     "output_type": "execute_result"
    }
   ],
   "source": [
    "# Initialize empty lists for each column\n",
    "package_ids = []\n",
    "scan_statuses = []\n",
    "start_times = []\n",
    "end_times = []\n",
    "service_times = []\n",
    "depths = []\n",
    "heights = []\n",
    "widths = []\n",
    "stop_ids = []\n",
    "route_ids = []\n",
    "\n",
    "# Iterate through the JSON data to extract information\n",
    "for route_id, route_data in data_package.items():\n",
    "    for stop_id, stop_data in route_data.items():\n",
    "        for package_id, package_data in stop_data.items():\n",
    "            package_ids.append(package_id)\n",
    "            scan_statuses.append(package_data.get(\"scan_status\", \"\"))\n",
    "            time_window = package_data.get(\"time_window\", {})\n",
    "            start_times.append(time_window.get(\"start_time_utc\", \"\"))\n",
    "            end_times.append(time_window.get(\"end_time_utc\", \"\"))\n",
    "            service_times.append(package_data.get(\"planned_service_time_seconds\", \"\"))\n",
    "            dimensions = package_data.get(\"dimensions\", {})\n",
    "            depths.append(dimensions.get(\"depth_cm\", \"\"))\n",
    "            heights.append(dimensions.get(\"height_cm\", \"\"))\n",
    "            widths.append(dimensions.get(\"width_cm\", \"\"))\n",
    "            stop_ids.append(stop_id)\n",
    "            route_ids.append(route_id)\n",
    "\n",
    "# Create a pandas DataFrame from the extracted data\n",
    "df_package = pd.DataFrame({\n",
    "    \"PackageID\": package_ids,\n",
    "    \"ScanStatus\": scan_statuses,\n",
    "    \"StartTimeUTC\": start_times,\n",
    "    \"EndTimeUTC\": end_times,\n",
    "    \"PlannedServiceTimeSeconds\": service_times,\n",
    "    \"DepthCM\": depths,\n",
    "    \"HeightCM\": heights,\n",
    "    \"WidthCM\": widths,\n",
    "    \"StopID\": stop_ids,\n",
    "    \"RouteID\": route_ids\n",
    "})\n",
    "\n",
    "# Display the resulting DataFrame\n",
    "df_package.head(5)\n"
   ]
  },
  {
   "cell_type": "markdown",
   "metadata": {},
   "source": [
    "Now that the data of the packages is loaded into a dataframe, the second json file will be converted to a dataframe in order to get useful route data.  "
   ]
  },
  {
   "cell_type": "code",
   "execution_count": 3,
   "metadata": {},
   "outputs": [
    {
     "data": {
      "text/html": [
       "<div>\n",
       "<style scoped>\n",
       "    .dataframe tbody tr th:only-of-type {\n",
       "        vertical-align: middle;\n",
       "    }\n",
       "\n",
       "    .dataframe tbody tr th {\n",
       "        vertical-align: top;\n",
       "    }\n",
       "\n",
       "    .dataframe thead th {\n",
       "        text-align: right;\n",
       "    }\n",
       "</style>\n",
       "<table border=\"1\" class=\"dataframe\">\n",
       "  <thead>\n",
       "    <tr style=\"text-align: right;\">\n",
       "      <th></th>\n",
       "      <th>RouteID</th>\n",
       "      <th>station_code</th>\n",
       "      <th>date_YYYY_MM_DD</th>\n",
       "      <th>departure_time_utc</th>\n",
       "      <th>executor_capacity_cm3</th>\n",
       "      <th>route_score</th>\n",
       "      <th>stop_id</th>\n",
       "      <th>lat</th>\n",
       "      <th>lng</th>\n",
       "      <th>type</th>\n",
       "      <th>zone_id</th>\n",
       "    </tr>\n",
       "  </thead>\n",
       "  <tbody>\n",
       "    <tr>\n",
       "      <th>0</th>\n",
       "      <td>RouteID_00143bdd-0a6b-49ec-bb35-36593d303e77</td>\n",
       "      <td>DLA3</td>\n",
       "      <td>2018-07-27</td>\n",
       "      <td>16:02:10</td>\n",
       "      <td>3313071.0</td>\n",
       "      <td>High</td>\n",
       "      <td>AD</td>\n",
       "      <td>34.099611</td>\n",
       "      <td>-118.283062</td>\n",
       "      <td>Dropoff</td>\n",
       "      <td>P-12.3C</td>\n",
       "    </tr>\n",
       "    <tr>\n",
       "      <th>1</th>\n",
       "      <td>RouteID_00143bdd-0a6b-49ec-bb35-36593d303e77</td>\n",
       "      <td>DLA3</td>\n",
       "      <td>2018-07-27</td>\n",
       "      <td>16:02:10</td>\n",
       "      <td>3313071.0</td>\n",
       "      <td>High</td>\n",
       "      <td>AF</td>\n",
       "      <td>34.101587</td>\n",
       "      <td>-118.291125</td>\n",
       "      <td>Dropoff</td>\n",
       "      <td>A-1.2D</td>\n",
       "    </tr>\n",
       "    <tr>\n",
       "      <th>2</th>\n",
       "      <td>RouteID_00143bdd-0a6b-49ec-bb35-36593d303e77</td>\n",
       "      <td>DLA3</td>\n",
       "      <td>2018-07-27</td>\n",
       "      <td>16:02:10</td>\n",
       "      <td>3313071.0</td>\n",
       "      <td>High</td>\n",
       "      <td>AG</td>\n",
       "      <td>34.089727</td>\n",
       "      <td>-118.285530</td>\n",
       "      <td>Dropoff</td>\n",
       "      <td>A-2.1A</td>\n",
       "    </tr>\n",
       "    <tr>\n",
       "      <th>3</th>\n",
       "      <td>RouteID_00143bdd-0a6b-49ec-bb35-36593d303e77</td>\n",
       "      <td>DLA3</td>\n",
       "      <td>2018-07-27</td>\n",
       "      <td>16:02:10</td>\n",
       "      <td>3313071.0</td>\n",
       "      <td>High</td>\n",
       "      <td>BA</td>\n",
       "      <td>34.096132</td>\n",
       "      <td>-118.292869</td>\n",
       "      <td>Dropoff</td>\n",
       "      <td>A-1.2C</td>\n",
       "    </tr>\n",
       "    <tr>\n",
       "      <th>4</th>\n",
       "      <td>RouteID_00143bdd-0a6b-49ec-bb35-36593d303e77</td>\n",
       "      <td>DLA3</td>\n",
       "      <td>2018-07-27</td>\n",
       "      <td>16:02:10</td>\n",
       "      <td>3313071.0</td>\n",
       "      <td>High</td>\n",
       "      <td>BE</td>\n",
       "      <td>34.098482</td>\n",
       "      <td>-118.286243</td>\n",
       "      <td>Dropoff</td>\n",
       "      <td>P-13.3B</td>\n",
       "    </tr>\n",
       "  </tbody>\n",
       "</table>\n",
       "</div>"
      ],
      "text/plain": [
       "                                        RouteID station_code date_YYYY_MM_DD  \\\n",
       "0  RouteID_00143bdd-0a6b-49ec-bb35-36593d303e77         DLA3      2018-07-27   \n",
       "1  RouteID_00143bdd-0a6b-49ec-bb35-36593d303e77         DLA3      2018-07-27   \n",
       "2  RouteID_00143bdd-0a6b-49ec-bb35-36593d303e77         DLA3      2018-07-27   \n",
       "3  RouteID_00143bdd-0a6b-49ec-bb35-36593d303e77         DLA3      2018-07-27   \n",
       "4  RouteID_00143bdd-0a6b-49ec-bb35-36593d303e77         DLA3      2018-07-27   \n",
       "\n",
       "  departure_time_utc  executor_capacity_cm3 route_score stop_id        lat  \\\n",
       "0           16:02:10              3313071.0        High      AD  34.099611   \n",
       "1           16:02:10              3313071.0        High      AF  34.101587   \n",
       "2           16:02:10              3313071.0        High      AG  34.089727   \n",
       "3           16:02:10              3313071.0        High      BA  34.096132   \n",
       "4           16:02:10              3313071.0        High      BE  34.098482   \n",
       "\n",
       "          lng     type  zone_id  \n",
       "0 -118.283062  Dropoff  P-12.3C  \n",
       "1 -118.291125  Dropoff   A-1.2D  \n",
       "2 -118.285530  Dropoff   A-2.1A  \n",
       "3 -118.292869  Dropoff   A-1.2C  \n",
       "4 -118.286243  Dropoff  P-13.3B  "
      ]
     },
     "execution_count": 3,
     "metadata": {},
     "output_type": "execute_result"
    }
   ],
   "source": [
    "# Initialize empty lists for each column\n",
    "route_ids = []\n",
    "station_codes = []\n",
    "dates = []\n",
    "departure_times = []\n",
    "executor_capacities = []\n",
    "route_scores = []\n",
    "stop_ids = []\n",
    "lats = []\n",
    "lngs = []\n",
    "types = []\n",
    "zone_ids = []\n",
    "\n",
    "# Iterate through the JSON data to extract information\n",
    "for route_id, route_data in data_route.items():\n",
    "    station_code = route_data.get(\"station_code\", \"\")\n",
    "    date = route_data.get(\"date_YYYY_MM_DD\", \"\")\n",
    "    departure_time_utc = route_data.get(\"departure_time_utc\", \"\")\n",
    "    executor_capacity_cm3 = route_data.get(\"executor_capacity_cm3\", \"\")\n",
    "    route_score = route_data.get(\"route_score\", \"\")\n",
    "    \n",
    "    stops = route_data.get(\"stops\", {})\n",
    "    for stop_id, stop_data in stops.items():\n",
    "        lat = stop_data.get(\"lat\", \"\")\n",
    "        lng = stop_data.get(\"lng\", \"\")\n",
    "        stop_type = stop_data.get(\"type\", \"\")\n",
    "        zone_id = stop_data.get(\"zone_id\", \"\")\n",
    "        \n",
    "        route_ids.append(route_id)\n",
    "        station_codes.append(station_code)\n",
    "        dates.append(date)\n",
    "        departure_times.append(departure_time_utc)\n",
    "        executor_capacities.append(executor_capacity_cm3)\n",
    "        route_scores.append(route_score)\n",
    "        stop_ids.append(stop_id)\n",
    "        lats.append(lat)\n",
    "        lngs.append(lng)\n",
    "        types.append(stop_type)\n",
    "        zone_ids.append(zone_id)\n",
    "\n",
    "# Create a pandas DataFrame from the extracted data\n",
    "df_route = pd.DataFrame({\n",
    "    \"RouteID\": route_ids,\n",
    "    \"station_code\": station_codes,\n",
    "    \"date_YYYY_MM_DD\": dates,\n",
    "    \"departure_time_utc\": departure_times,\n",
    "    \"executor_capacity_cm3\": executor_capacities,\n",
    "    \"route_score\": route_scores,\n",
    "    \"stop_id\": stop_ids,\n",
    "    \"lat\": lats,\n",
    "    \"lng\": lngs,\n",
    "    \"type\": types,\n",
    "    \"zone_id\": zone_ids\n",
    "})\n",
    "\n",
    "# Display the resulting DataFrame\n",
    "df_route.head(5)\n"
   ]
  },
  {
   "cell_type": "markdown",
   "metadata": {},
   "source": [
    "# Data Pipeline"
   ]
  },
  {
   "cell_type": "markdown",
   "metadata": {},
   "source": [
    "### Data Cleaning"
   ]
  },
  {
   "cell_type": "markdown",
   "metadata": {},
   "source": [
    "Before implementing our algorithms, the raw data must be cleaned. For the first dataset \"package_data\" the dimensions must have a value in order to compute the volume. Therefore, we have to check if NaN values exist for these data fields and if so, replace the NaN value with the mean of the data field. This is also necessary for the volume capacity of the delivery vehicles in the second dataset \"route_data\". As one can see in the code below, there are no missing values for each data field. "
   ]
  },
  {
   "cell_type": "code",
   "execution_count": null,
   "metadata": {},
   "outputs": [],
   "source": [
    "# Code van Merel over de missing values hier."
   ]
  },
  {
   "cell_type": "markdown",
   "metadata": {},
   "source": [
    "### Data Distribution"
   ]
  },
  {
   "cell_type": "markdown",
   "metadata": {},
   "source": [
    "Now that the data is cleaned, the data distribution can be displayed. First of all, the distribution of the volume of the packages is presented in a histogram. As one can see, there are some outliers present. However, these outliers have realistic values and thus will not be excluded from the dataset. "
   ]
  },
  {
   "cell_type": "code",
   "execution_count": 3,
   "metadata": {},
   "outputs": [
    {
     "data": {
      "image/png": "[encoded data removed]",
      "text/plain": [
       "<Figure size 1400x600 with 2 Axes>"
      ]
     },
     "metadata": {},
     "output_type": "display_data"
    }
   ],
   "source": [
    "# Add a column named package_volume by multiplying DepthCM, HeightCM and WidthCM\n",
    "df_package['package_volume'] = (df_package['DepthCM'] * df_package['HeightCM'] * df_package['WidthCM'])\n",
    "\n",
    "# Create a figure with two subplots\n",
    "fig, (ax1, ax2) = plt.subplots(1, 2, figsize=(14, 6))\n",
    "\n",
    "# Plot the histogram on the first subplot (ax1)\n",
    "ax1.hist(df_package['package_volume'], bins=30, color='blue', alpha=0.7)\n",
    "ax1.set_title('Volume Distribution')\n",
    "ax1.set_xlabel('Volume')\n",
    "ax1.set_ylabel('Frequency')\n",
    "ax1.grid(True)\n",
    "\n",
    "# Plot the boxplot on the second subplot (ax2)\n",
    "ax2.boxplot(df_package['package_volume'], vert=False)\n",
    "ax2.set_title('Boxplot of Volume')\n",
    "ax2.set_xlabel('Volume')\n",
    "ax2.grid(True)\n",
    "\n",
    "# Adjust the layout for better spacing\n",
    "plt.tight_layout()\n",
    "\n",
    "# Show the combined plot\n",
    "plt.show()"
   ]
  },
  {
   "cell_type": "markdown",
   "metadata": {},
   "source": [
    "# Heuristics (not ready yet)\n",
    "\n",
    "I made a start with the heuristics and the code and text is given below. I made a small dummy dataset to check whether the heuristics work with this small dataset. This week I will continue with the heuristics!"
   ]
  },
  {
   "cell_type": "markdown",
   "metadata": {},
   "source": [
    "## Bin packing \n",
    "\n",
    "First a model is built that can be used for the bin packing problem. However, this model is not developed to optimize the problem. This model will be used as the basic model which is, thereafter, **evolved** in steps into a model that can optimize the problem. During the modelling we will evaluate the models and there outcomes with eachother using visualizations. The idea is that with each update of the model, it is seen in the behaviour of the objective function. "
   ]
  },
  {
   "cell_type": "markdown",
   "metadata": {},
   "source": [
    "<h1>Vehicles</h1>\n",
    "\n",
    "The packages are assigned to vehicles. A class for the vehicles is made in the code block below. "
   ]
  },
  {
   "cell_type": "code",
   "execution_count": 12,
   "metadata": {},
   "outputs": [],
   "source": [
    "# Class defining a vehicle\n",
    "class Vehicle:\n",
    "    \n",
    "    def __init__(self, capacity):\n",
    "        self._capacity = capacity\n",
    "        self._packages = []\n",
    "        self._load = 0\n",
    "        \n",
    "    # Checks if the package fits the vehicle\n",
    "    def fits(self, package):\n",
    "        return self.space_left() >= package\n",
    "    \n",
    "    # Recalculates the space left in the vehicle\n",
    "    def space_left(self):\n",
    "        return self._capacity - self._load\n",
    "    \n",
    "    # If possible, add the package to the vehicle\n",
    "    def add_package(self, package):\n",
    "        if not self.fits(package):\n",
    "            raise Exception('The package with a volume of %i does not fit. Package: ' % package)\n",
    "        self._packages.append(package)\n",
    "        self._load += package\n",
    "    \n",
    "    def get_load(self):\n",
    "        return self._load\n",
    "    \n",
    "    def __repr__(self):\n",
    "        return 'Vehicle %s (%i)' % (self._packages, self.space_left())\n",
    "    \n",
    "    def __str__(self):\n",
    "        return 'Vehicle %s (%i)' % (self._packages, self.space_left())"
   ]
  },
  {
   "cell_type": "markdown",
   "metadata": {},
   "source": [
    "For the basic heuristic the volume of the packages are given. It is assumed that if the volume fits the vehicle the packages fit the vehicle as well. This is assumed to reduce the complexity of the problem a little bit. assumption made was a good assumption"
   ]
  },
  {
   "cell_type": "code",
   "execution_count": 13,
   "metadata": {},
   "outputs": [],
   "source": [
    "def next_fit(packages, volumes):\n",
    "    \n",
    "    # Take the first vehicle\n",
    "    use_vehicle = Vehicle(volumes[0])\n",
    "    vehicles = [use_vehicle]\n",
    "    i = 1\n",
    "\n",
    "    for package in packages:\n",
    "        \n",
    "        # Assign the package in the vehicle if the package fits\n",
    "        if not use_vehicle.fits(package):\n",
    "            use_vehicle = Vehicle(volumes[i])\n",
    "            vehicles.append(use_vehicle)\n",
    "        use_vehicle.add_package(package) \n",
    "            \n",
    "    \n",
    "    # return list of packages\n",
    "    return vehicles"
   ]
  },
  {
   "cell_type": "code",
   "execution_count": 14,
   "metadata": {},
   "outputs": [],
   "source": [
    "# Print solution of packages in a vertical\n",
    "def print_solution(vehicles):\n",
    "    space_left = 0\n",
    "    for vehicle in vehicles:\n",
    "        print(vehicle)\n",
    "        space_left += vehicle.space_left()\n",
    "    print('total space left:  %i' % space_left)"
   ]
  },
  {
   "cell_type": "markdown",
   "metadata": {},
   "source": [
    "## Dummy data to test the code for now"
   ]
  },
  {
   "cell_type": "code",
   "execution_count": 17,
   "metadata": {},
   "outputs": [
    {
     "name": "stdout",
     "output_type": "stream",
     "text": [
      "Vehicle [25, 25] (50)\n",
      "Vehicle [60] (40)\n",
      "Vehicle [50, 20, 10, 20] (0)\n",
      "total space left:  90\n"
     ]
    }
   ],
   "source": [
    "vehicles_volumes = [100, 100, 100]\n",
    "\n",
    "packages_volumes = [25, 25, 60, 50, 20, 10, 20]\n",
    "\n",
    "vehicles = next_fit(packages_volumes, vehicles_volumes)\n",
    "print_solution(vehicles)"
   ]
  },
  {
   "cell_type": "code",
   "execution_count": 16,
   "metadata": {},
   "outputs": [],
   "source": [
    "def next_k_fit(packages, volumes, k):\n",
    "    \n",
    "    # List with used vehicles\n",
    "    vehicles = []\n",
    "    i = 0\n",
    "    \n",
    "    for package in packages:\n",
    "        \n",
    "        # Assign the package to the first vehicle it fits\n",
    "        package_assigned = False\n",
    "        for used_vehicle in vehicles[-k:]: \n",
    "            if used_vehicle.fits(package):\n",
    "                used_vehicle.add_package(package)\n",
    "                package_assigned = True\n",
    "                break\n",
    "                \n",
    "        # add new empty box if needed\n",
    "        if not package_assigned:\n",
    "            used_vehicle = Vehicle(volumes[i])\n",
    "            vehicles.append(used_vehicle)\n",
    "            used_vehicle.add_package(package)\n",
    "\n",
    "    \n",
    "    # return list of boxes\n",
    "    return vehicles"
   ]
  },
  {
   "cell_type": "code",
   "execution_count": 19,
   "metadata": {},
   "outputs": [
    {
     "name": "stdout",
     "output_type": "stream",
     "text": [
      "Vehicle [25, 25, 50] (0)\n",
      "Vehicle [60, 20, 10] (10)\n",
      "Vehicle [20] (80)\n",
      "total space left:  90\n"
     ]
    }
   ],
   "source": [
    "vehicles = next_k_fit(packages_volumes, vehicles_volumes, len(vehicles_volumes))\n",
    "print_solution(vehicles)"
   ]
  },
  {
   "cell_type": "markdown",
   "metadata": {},
   "source": [
    "## Heuristics chapter stops here\n"
   ]
  }
 ],
 "metadata": {
  "kernelspec": {
   "display_name": "Python 3 (ipykernel)",
   "language": "python",
   "name": "python3"
  },
  "language_info": {
   "codemirror_mode": {
    "name": "ipython",
    "version": 3
   },
   "file_extension": ".py",
   "mimetype": "text/x-python",
   "name": "python",
   "nbconvert_exporter": "python",
   "pygments_lexer": "ipython3",
   "version": "3.7.16"
  },
  "vscode": {
   "interpreter": {
    "hash": "31f2aee4e71d21fbe5cf8b01ff0e069b9275f58929596ceb00d14d90e3e16cd6"
   }
  }
 },
 "nbformat": 4,
 "nbformat_minor": 2
}
